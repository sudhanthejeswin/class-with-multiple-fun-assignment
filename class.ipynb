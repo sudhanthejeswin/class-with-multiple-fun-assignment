{
 "cells": [
  {
   "cell_type": "code",
   "execution_count": 11,
   "id": "5c497376-0872-4508-9f0a-a7561f31b583",
   "metadata": {
    "scrolled": true
   },
   "outputs": [],
   "source": [
    "from Multiple import MultipleFunction"
   ]
  },
  {
   "cell_type": "code",
   "execution_count": 13,
   "id": "8c61a78b-f2e2-4693-be29-003f3d4cb479",
   "metadata": {},
   "outputs": [
    {
     "name": "stdout",
     "output_type": "stream",
     "text": [
      "Sub-fields in AI are:\n",
      "Machine Learning\n",
      "Neural Networks\n",
      "Vision\n",
      "Robotics\n",
      "Speech Processing\n",
      "Natural Language Processing\n"
     ]
    }
   ],
   "source": [
    "MultipleFunction.Subfields()"
   ]
  },
  {
   "cell_type": "code",
   "execution_count": 15,
   "id": "a09b1498-23a9-49ba-afa9-18e085248a30",
   "metadata": {},
   "outputs": [
    {
     "name": "stdin",
     "output_type": "stream",
     "text": [
      "Enter a number:  34\n"
     ]
    },
    {
     "name": "stdout",
     "output_type": "stream",
     "text": [
      "34 is an Even number\n"
     ]
    }
   ],
   "source": [
    "MultipleFunction.OddEven()"
   ]
  },
  {
   "cell_type": "code",
   "execution_count": 19,
   "id": "e72d7b39-007d-40ff-9db8-362e47fba7dc",
   "metadata": {},
   "outputs": [
    {
     "name": "stdin",
     "output_type": "stream",
     "text": [
      "Your Gender (Male/Female):  male\n",
      "Your Age:  20\n"
     ]
    },
    {
     "name": "stdout",
     "output_type": "stream",
     "text": [
      "NOT ELIGIBLE\n"
     ]
    }
   ],
   "source": [
    "MultipleFunction.Elegible()"
   ]
  },
  {
   "cell_type": "code",
   "execution_count": null,
   "id": "16fb8913-e340-4f3d-bc58-5f6edc671207",
   "metadata": {},
   "outputs": [],
   "source": [
    "MultipleFunction."
   ]
  }
 ],
 "metadata": {
  "kernelspec": {
   "display_name": "Python 3 (ipykernel)",
   "language": "python",
   "name": "python3"
  },
  "language_info": {
   "codemirror_mode": {
    "name": "ipython",
    "version": 3
   },
   "file_extension": ".py",
   "mimetype": "text/x-python",
   "name": "python",
   "nbconvert_exporter": "python",
   "pygments_lexer": "ipython3",
   "version": "3.12.4"
  }
 },
 "nbformat": 4,
 "nbformat_minor": 5
}
